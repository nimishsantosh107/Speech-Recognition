{
 "cells": [
  {
   "cell_type": "code",
   "execution_count": 1,
   "metadata": {},
   "outputs": [
    {
     "data": {
      "text/plain": [
       "1"
      ]
     },
     "execution_count": 1,
     "metadata": {},
     "output_type": "execute_result"
    }
   ],
   "source": [
    "class TrieNode {\n",
    "\tconstructor(string, homophones){\n",
    "\t\tthis.string = string;\n",
    "\t\tthis.homophones = homophones;\n",
    "\t\tthis.children = [];\n",
    "\t\tthis.end = false;\n",
    "\t}\n",
    "}\n",
    "\n",
    "var trieroot = new TrieNode(\"*\",[]);\n",
    "//LAYER 1\n",
    "var play = new TrieNode(\"play\",[\"play\", \"they\", \"way\", \"say\", \"pay\", \"pray\", \"away\"]);\n",
    "play.end = true;\n",
    "var pause = new TrieNode(\"pause\",[\"pause\", \"boss\",\"pass\",\"laws\", \"claws\", \"paws\", \"flaws\", \"paus\", \"shaws\", \"was\", \"cause\"]);\n",
    "pause.end = true;\n",
    "var go = new TrieNode(\"go\", [\"go\", \"hoe\", \"doe\"])\n",
    "var volume = new TrieNode(\"volume\", [\"volume\", \"toluene\", \"column\", \"solemn\", \"costume\", \"on whom\", \"washroom\", \"was room\"]);\n",
    "//APPEND LAYER 1\n",
    "trieroot.children.push(play,pause,go,volume);\n",
    "//LAYER 2\n",
    "var to = new TrieNode(\"to\", [\"to\", \"tu\", \"too\", \"two\", \"2\", \"do\", \"doo\", \"boo\"]);\n",
    "var up = new TrieNode(\"up\", [\"up\", \"cup\", \"sup\", \"pup\", \"yup\", \"upp\", \"supp\", \"krupp\", \"dupp\", \"rupp\"]);\n",
    "up.end = true;\n",
    "var down = new TrieNode(\"down\", [\"down\", \"town\", \"around\", \"brown\", \"crown\", \"crowne\", \"noun\", \"frown\", \"clown\", \"drown\"]);\n",
    "down.end = true;\n",
    "//APPEND LAYER 2\n",
    "go.children.push(to);\n",
    "volume.children.push(up,down);\n",
    "//LAYER 3\n",
    "var time = new TrieNode(\"NUM\", [\"1\",\"2\",\"3\",\"4\",\"5\",\"6\",\"7\",\"8\",\"9\",\"0\",\".\"]);\n",
    "time.end = true;\n",
    "//APPEND LAYER 3\n",
    "to.children.push(time);"
   ]
  },
  {
   "cell_type": "code",
   "execution_count": 2,
   "metadata": {},
   "outputs": [],
   "source": [
    "//CHECK"
   ]
  },
  {
   "cell_type": "code",
   "execution_count": 3,
   "metadata": {},
   "outputs": [
    {
     "data": {
      "text/plain": [
       "[ TrieNode {\n",
       "    string: 'play',\n",
       "    homophones: [ 'play', 'they', 'way', 'say', 'pay', 'pray', 'away' ],\n",
       "    children: [],\n",
       "    end: true },\n",
       "  TrieNode {\n",
       "    string: 'pause',\n",
       "    homophones:\n",
       "     [ 'pause',\n",
       "       'boss',\n",
       "       'pass',\n",
       "       'laws',\n",
       "       'claws',\n",
       "       'paws',\n",
       "       'flaws',\n",
       "       'paus',\n",
       "       'shaws',\n",
       "       'was',\n",
       "       'cause' ],\n",
       "    children: [],\n",
       "    end: true },\n",
       "  TrieNode {\n",
       "    string: 'go',\n",
       "    homophones: [ 'go', 'hoe', 'doe' ],\n",
       "    children: [ [TrieNode] ],\n",
       "    end: false },\n",
       "  TrieNode {\n",
       "    string: 'volume',\n",
       "    homophones:\n",
       "     [ 'volume',\n",
       "       'toluene',\n",
       "       'column',\n",
       "       'solemn',\n",
       "       'costume',\n",
       "       'on whom',\n",
       "       'washroom',\n",
       "       'was room' ],\n",
       "    children: [ [TrieNode], [TrieNode] ],\n",
       "    end: false } ]"
      ]
     },
     "execution_count": 3,
     "metadata": {},
     "output_type": "execute_result"
    }
   ],
   "source": [
    "trieroot.children"
   ]
  },
  {
   "cell_type": "code",
   "execution_count": 4,
   "metadata": {},
   "outputs": [],
   "source": [
    "//TEST"
   ]
  },
  {
   "cell_type": "code",
   "execution_count": 5,
   "metadata": {},
   "outputs": [],
   "source": [
    "function returnCommand (string) {\n",
    "\tvar list = string.toLowerCase().split(\" \");\n",
    "\tif(list.length > 5){ return false; }\n",
    "\telse {\n",
    "\t\tvar curList = trieroot.children;\n",
    "\t\tvar temp = [];\n",
    "\t\tfor(var i =  0; i< list.length ; i++){\n",
    "\t\t\tif( i > 1){\n",
    "\t\t\t\tfor(var k = i; k < list.length; k++){\n",
    "\t\t\t\t\tif(!isNaN(list[i])){\n",
    "\t\t\t\t\t\ttemp.push(parseFloat(list[k]));\n",
    "\t\t\t\t\t}else {\n",
    "\t\t\t\t\t\treturn false;\n",
    "\t\t\t\t\t}\n",
    "\t\t\t\t}\n",
    "\t\t\t\treturn temp;\n",
    "\t\t\t}\n",
    "\t\t\telse{\n",
    "\t\t\t\tvar flag = false;\n",
    "\t\t\t\tfor(var j = 0; j< curList.length ; j++){\n",
    "\t\t\t\t\tif(curList[j].homophones.indexOf(list[i])!== -1){\n",
    "\t\t\t\t\t\tflag = true;\n",
    "\t\t\t\t\t\ttemp.push(curList[j].string);\n",
    "\t\t\t\t\t\tif(curList[j].end){\n",
    "\t\t\t\t\t\t\treturn temp;\n",
    "\t\t\t\t\t\t}else{\n",
    "\t\t\t\t\t\t\tcurList = curList[j].children;\n",
    "\t\t\t\t\t\t}\n",
    "\t\t\t\t\t}\n",
    "\t\t\t\t}\n",
    "\t\t\t\tif(!flag){\n",
    "\t\t\t\t\treturn false;\n",
    "\t\t\t\t}\n",
    "\t\t\t}\n",
    "\t\t};\n",
    "        return false;\n",
    "\t}\n",
    "}"
   ]
  },
  {
   "cell_type": "code",
   "execution_count": 43,
   "metadata": {},
   "outputs": [
    {
     "data": {
      "text/plain": [
       "false"
      ]
     },
     "execution_count": 43,
     "metadata": {},
     "output_type": "execute_result"
    }
   ],
   "source": [
    "returnCommand(\"seek 45\")"
   ]
  },
  {
   "cell_type": "code",
   "execution_count": 23,
   "metadata": {},
   "outputs": [
    {
     "data": {
      "text/plain": [
       "[ 'play' ]"
      ]
     },
     "execution_count": 23,
     "metadata": {},
     "output_type": "execute_result"
    }
   ],
   "source": [
    "returnCommand(\"play\")"
   ]
  },
  {
   "cell_type": "code",
   "execution_count": 33,
   "metadata": {},
   "outputs": [
    {
     "data": {
      "text/plain": [
       "[ 'volume', 'down' ]"
      ]
     },
     "execution_count": 33,
     "metadata": {},
     "output_type": "execute_result"
    }
   ],
   "source": [
    "returnCommand('volume down')"
   ]
  },
  {
   "cell_type": "code",
   "execution_count": null,
   "metadata": {},
   "outputs": [],
   "source": []
  }
 ],
 "metadata": {
  "kernelspec": {
   "display_name": "Javascript (Node.js)",
   "language": "javascript",
   "name": "javascript"
  },
  "language_info": {
   "file_extension": ".js",
   "mimetype": "application/javascript",
   "name": "javascript",
   "version": "10.15.0"
  }
 },
 "nbformat": 4,
 "nbformat_minor": 2
}
