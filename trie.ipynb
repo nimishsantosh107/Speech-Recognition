{
 "cells": [
  {
   "cell_type": "code",
   "execution_count": 1,
   "metadata": {},
   "outputs": [
    {
     "data": {
      "text/plain": [
       "1"
      ]
     },
     "execution_count": 1,
     "metadata": {},
     "output_type": "execute_result"
    }
   ],
   "source": [
    "class TrieNode {\n",
    "\tconstructor(string, homophones){\n",
    "\t\tthis.string = string;\n",
    "\t\tthis.homophones = homophones;\n",
    "\t\tthis.children = [];\n",
    "\t\tthis.end = false;\n",
    "\t}\n",
    "}\n",
    "\n",
    "var trieroot = new TrieNode(\"*\",[]);\n",
    "//LAYER 1\n",
    "var play = new TrieNode(\"play\",[\"play\", \"they\", \"way\", \"say\", \"pay\", \"pray\", \"away\"]);\n",
    "play.end = true;\n",
    "var pause = new TrieNode(\"pause\",[\"pause\", \"boss\",\"pass\",\"laws\", \"claws\", \"paws\", \"flaws\", \"paus\", \"shaws\", \"was\", \"cause\"]);\n",
    "pause.end = true;\n",
    "var go = new TrieNode(\"go\", [\"go\", \"hoe\", \"doe\"])\n",
    "var volume = new TrieNode(\"volume\", [\"volume\", \"toluene\", \"column\", \"solemn\", \"costume\", \"on whom\", \"washroom\", \"was room\"]);\n",
    "//APPEND LAYER 1\n",
    "trieroot.children.push(play,pause,go,volume);\n",
    "//LAYER 2\n",
    "var to = new TrieNode(\"to\", [\"to\", \"tu\", \"too\", \"two\", \"2\", \"do\", \"doo\", \"boo\"]);\n",
    "var up = new TrieNode(\"up\", [\"up\", \"cup\", \"sup\", \"pup\", \"yup\", \"upp\", \"supp\", \"krupp\", \"dupp\", \"rupp\"]);\n",
    "up.end = true;\n",
    "var down = new TrieNode(\"down\", [\"down\", \"town\", \"around\", \"brown\", \"crown\", \"crowne\", \"noun\", \"frown\", \"clown\", \"drown\"]);\n",
    "down.end = true;\n",
    "//APPEND LAYER 2\n",
    "go.children.push(to);\n",
    "volume.children.push(up,down);\n",
    "//LAYER 3\n",
    "var time = new TrieNode(\"NUM\", [\"1\",\"2\",\"3\",\"4\",\"5\",\"6\",\"7\",\"8\",\"9\",\"0\",\".\"]);\n",
    "time.end = true;\n",
    "//APPEND LAYER 3\n",
    "to.children.push(time);"
   ]
  },
  {
   "cell_type": "code",
   "execution_count": 4,
   "metadata": {},
   "outputs": [],
   "source": [
    "//CHECK"
   ]
  },
  {
   "cell_type": "code",
   "execution_count": 5,
   "metadata": {},
   "outputs": [
    {
     "data": {
      "text/plain": [
       "[ TrieNode {\n",
       "    string: 'play',\n",
       "    homophones: [ 'play', 'they', 'way', 'say', 'pay', 'pray', 'away' ],\n",
       "    children: [],\n",
       "    end: true },\n",
       "  TrieNode {\n",
       "    string: 'pause',\n",
       "    homophones:\n",
       "     [ 'pause',\n",
       "       'boss',\n",
       "       'pass',\n",
       "       'laws',\n",
       "       'claws',\n",
       "       'paws',\n",
       "       'flaws',\n",
       "       'paus',\n",
       "       'shaws',\n",
       "       'was',\n",
       "       'cause' ],\n",
       "    children: [],\n",
       "    end: true },\n",
       "  TrieNode {\n",
       "    string: 'go',\n",
       "    homophones: [ 'go', 'hoe', 'doe' ],\n",
       "    children: [ [TrieNode] ],\n",
       "    end: false },\n",
       "  TrieNode {\n",
       "    string: 'volume',\n",
       "    homophones:\n",
       "     [ 'volume',\n",
       "       'toluene',\n",
       "       'column',\n",
       "       'solemn',\n",
       "       'costume',\n",
       "       'on whom',\n",
       "       'washroom',\n",
       "       'was room' ],\n",
       "    children: [ [TrieNode], [TrieNode] ],\n",
       "    end: false } ]"
      ]
     },
     "execution_count": 5,
     "metadata": {},
     "output_type": "execute_result"
    }
   ],
   "source": [
    "trieroot.children"
   ]
  },
  {
   "cell_type": "code",
   "execution_count": 6,
   "metadata": {},
   "outputs": [],
   "source": [
    "//TEST"
   ]
  },
  {
   "cell_type": "code",
   "execution_count": 7,
   "metadata": {},
   "outputs": [],
   "source": [
    "function validateCommand (string) {\n",
    "\tvar speechList = string.toLowerCase().split(\" \");\n",
    "\tif(speechList.length > 4){ return false; }\n",
    "\telse {\n",
    "\t\tvar curChildren = trieroot.children;\n",
    "\t\tvar temp = [];\n",
    "\t\tfor(var i =  0; i< speechList.length ; i++){\n",
    "\t\t\tif( i > 1){ //IN NUMBERS NOW\n",
    "\t\t\t\tfor(var k = i; k < speechList.length; k++){\n",
    "\t\t\t\t\tif(!isNaN(speechList[k])){\n",
    "\t\t\t\t\t\tif(k == 2){\n",
    "                            temp.push(speechList[k]);\n",
    "                        }else {\n",
    "                            temp[2] = temp[2].concat(speechList[k]);\n",
    "                        }\n",
    "\t\t\t\t\t}else {\n",
    "\t\t\t\t\t\tif(k === 2){ return false;}\n",
    "\t\t\t\t\t\telse{\n",
    "\t\t\t\t\t\t\treturn temp;\n",
    "\t\t\t\t\t\t}\n",
    "\t\t\t\t\t}\n",
    "\t\t\t\t}\n",
    "\t\t\t\treturn temp;\n",
    "\t\t\t}\n",
    "\t\t\telse{\n",
    "\t\t\t\tvar flag = false;\n",
    "\t\t\t\tfor(var j = 0; j< curChildren.length ; j++){\n",
    "\t\t\t\t\tif(curChildren[j].homophones.indexOf(speechList[i])!== -1){\n",
    "\t\t\t\t\t\tflag = true;\n",
    "\t\t\t\t\t\ttemp.push(curChildren[j].string);\n",
    "\t\t\t\t\t\tif(curChildren[j].end){\n",
    "\t\t\t\t\t\t\treturn temp;\n",
    "\t\t\t\t\t\t}else{\n",
    "\t\t\t\t\t\t\tcurChildren = curChildren[j].children;\n",
    "\t\t\t\t\t\t}\n",
    "\t\t\t\t\t}\n",
    "\t\t\t\t}\n",
    "\t\t\t\tif(!flag){\n",
    "\t\t\t\t\treturn false;\n",
    "\t\t\t\t}\n",
    "\t\t\t}\n",
    "\t\t};\n",
    "        return false;\n",
    "\t}\n",
    "}"
   ]
  },
  {
   "cell_type": "code",
   "execution_count": 9,
   "metadata": {},
   "outputs": [
    {
     "data": {
      "text/plain": [
       "[ 'go', 'to', '45.90' ]"
      ]
     },
     "execution_count": 9,
     "metadata": {},
     "output_type": "execute_result"
    }
   ],
   "source": [
    "validateCommand(\"hoe to 45. 90\")"
   ]
  },
  {
   "cell_type": "code",
   "execution_count": 50,
   "metadata": {},
   "outputs": [
    {
     "data": {
      "text/plain": [
       "[ 'play' ]"
      ]
     },
     "execution_count": 50,
     "metadata": {},
     "output_type": "execute_result"
    }
   ],
   "source": [
    "validateCommand(\"play\")"
   ]
  },
  {
   "cell_type": "code",
   "execution_count": 51,
   "metadata": {},
   "outputs": [
    {
     "data": {
      "text/plain": [
       "[ 'volume', 'down' ]"
      ]
     },
     "execution_count": 51,
     "metadata": {},
     "output_type": "execute_result"
    }
   ],
   "source": [
    "validateCommand('volume down')"
   ]
  },
  {
   "cell_type": "code",
   "execution_count": 81,
   "metadata": {},
   "outputs": [
    {
     "data": {
      "text/plain": [
       "[ 'go', 'to', '4.8' ]"
      ]
     },
     "execution_count": 81,
     "metadata": {},
     "output_type": "execute_result"
    }
   ],
   "source": [
    "validateCommand('go to 4 .8')"
   ]
  },
  {
   "cell_type": "code",
   "execution_count": 11,
   "metadata": {},
   "outputs": [],
   "source": [
    "//GET COMMAND\n",
    "function getCommand(commandList){\n",
    "    if(commandList[0] === \"play\" || commandList[0] === \"pause\"){\n",
    "        return commandList[0];\n",
    "    }\n",
    "    else if(commandList[0] === \"volume\"){\n",
    "        if(commandList[1] === \"up\") {return \"v+\"}\n",
    "        else { return \"v-\" }\n",
    "    }\n",
    "    else if(commandList[0] === \"go\"){\n",
    "        timeStamp = commandList[2];\n",
    "        timeStampArr = timeStamp.split(\".\");\n",
    "        if(timeStampArr.length === 1) {return parseInt(timeStampArr[0]);}\n",
    "        else{return (parseInt(timeStampArr[0])*60)+(parseInt(timeStampArr[1]));}\n",
    "    }\n",
    "}"
   ]
  },
  {
   "cell_type": "code",
   "execution_count": 12,
   "metadata": {},
   "outputs": [],
   "source": [
    "//TEST"
   ]
  },
  {
   "cell_type": "code",
   "execution_count": 20,
   "metadata": {},
   "outputs": [
    {
     "data": {
      "text/plain": [
       "'play'"
      ]
     },
     "execution_count": 20,
     "metadata": {},
     "output_type": "execute_result"
    }
   ],
   "source": [
    "getCommand([ 'play' ])"
   ]
  },
  {
   "cell_type": "code",
   "execution_count": 18,
   "metadata": {},
   "outputs": [
    {
     "data": {
      "text/plain": [
       "248"
      ]
     },
     "execution_count": 18,
     "metadata": {},
     "output_type": "execute_result"
    }
   ],
   "source": [
    "getCommand([ 'go', 'to', '4.8' ])"
   ]
  },
  {
   "cell_type": "code",
   "execution_count": 19,
   "metadata": {},
   "outputs": [
    {
     "data": {
      "text/plain": [
       "'v+'"
      ]
     },
     "execution_count": 19,
     "metadata": {},
     "output_type": "execute_result"
    }
   ],
   "source": [
    "getCommand(['volume', 'up'])"
   ]
  },
  {
   "cell_type": "code",
   "execution_count": 16,
   "metadata": {},
   "outputs": [],
   "source": [
    "//FINAL TEST"
   ]
  },
  {
   "cell_type": "code",
   "execution_count": 21,
   "metadata": {},
   "outputs": [
    {
     "data": {
      "text/plain": [
       "607"
      ]
     },
     "execution_count": 21,
     "metadata": {},
     "output_type": "execute_result"
    }
   ],
   "source": [
    "getCommand(validateCommand(\"hoe do 10 .7\"))"
   ]
  }
 ],
 "metadata": {
  "kernelspec": {
   "display_name": "Javascript (Node.js)",
   "language": "javascript",
   "name": "javascript"
  },
  "language_info": {
   "file_extension": ".js",
   "mimetype": "application/javascript",
   "name": "javascript",
   "version": "10.15.0"
  }
 },
 "nbformat": 4,
 "nbformat_minor": 2
}
